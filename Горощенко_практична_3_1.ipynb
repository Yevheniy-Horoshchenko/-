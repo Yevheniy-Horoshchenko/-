{
 "cells": [
  {
   "cell_type": "code",
   "execution_count": 8,
   "metadata": {},
   "outputs": [
    {
     "name": "stdout",
     "output_type": "stream",
     "text": [
      "     rank                    Youtuber  subscribers   video views  \\\n",
      "0       1                    T-Series    245000000  2.280000e+11   \n",
      "1       2              YouTube Movies    170000000  0.000000e+00   \n",
      "2       3                     MrBeast    166000000  2.836884e+10   \n",
      "3       4  Cocomelon - Nursery Rhymes    162000000  1.640000e+11   \n",
      "4       5                   SET India    159000000  1.480000e+11   \n",
      "..    ...                         ...          ...           ...   \n",
      "990   991               Natan por Aпї     12300000  9.029610e+09   \n",
      "991   992    Free Fire India Official     12300000  1.674410e+09   \n",
      "992   993                       Panda     12300000  2.214684e+09   \n",
      "993   994                 RobTopGames     12300000  3.741235e+08   \n",
      "994   995                Make Joke Of     12300000  2.129774e+09   \n",
      "\n",
      "             category                       Title  uploads         Country  \\\n",
      "0               Music                    T-Series    20082           India   \n",
      "1    Film & Animation               youtubemovies        1   United States   \n",
      "2       Entertainment                     MrBeast      741   United States   \n",
      "3           Education  Cocomelon - Nursery Rhymes      966   United States   \n",
      "4               Shows                   SET India   116536           India   \n",
      "..                ...                         ...      ...             ...   \n",
      "990            Sports               Natan por Aпї     1200          Brazil   \n",
      "991    People & Blogs    Free Fire India Official     1500           India   \n",
      "992               NaN                 HybridPanda     2452  United Kingdom   \n",
      "993            Gaming                 RobTopGames       39          Sweden   \n",
      "994            Comedy                Make Joke Of       62           India   \n",
      "\n",
      "    Abbreviation   channel_type  ...  subscribers_for_last_30_days  \\\n",
      "0             IN          Music  ...                     2000000.0   \n",
      "1             US          Games  ...                           NaN   \n",
      "2             US  Entertainment  ...                     8000000.0   \n",
      "3             US      Education  ...                     1000000.0   \n",
      "4             IN  Entertainment  ...                     1000000.0   \n",
      "..           ...            ...  ...                           ...   \n",
      "990           BR  Entertainment  ...                      700000.0   \n",
      "991           IN          Games  ...                      300000.0   \n",
      "992           GB          Games  ...                        1000.0   \n",
      "993           SE          Games  ...                      100000.0   \n",
      "994           IN         Comedy  ...                      100000.0   \n",
      "\n",
      "     created_year  created_month  created_date  \\\n",
      "0          2006.0            Mar          13.0   \n",
      "1          2006.0            Mar           5.0   \n",
      "2          2012.0            Feb          20.0   \n",
      "3          2006.0            Sep           1.0   \n",
      "4          2006.0            Sep          20.0   \n",
      "..            ...            ...           ...   \n",
      "990        2017.0            Feb          12.0   \n",
      "991        2018.0            Sep          14.0   \n",
      "992        2006.0            Sep          11.0   \n",
      "993        2012.0            May           9.0   \n",
      "994        2017.0            Aug           1.0   \n",
      "\n",
      "     Gross tertiary education enrollment (%)    Population  Unemployment rate  \\\n",
      "0                                       28.1  1.366418e+09               5.36   \n",
      "1                                       88.2  3.282395e+08              14.70   \n",
      "2                                       88.2  3.282395e+08              14.70   \n",
      "3                                       88.2  3.282395e+08              14.70   \n",
      "4                                       28.1  1.366418e+09               5.36   \n",
      "..                                       ...           ...                ...   \n",
      "990                                     51.3  2.125594e+08              12.08   \n",
      "991                                     28.1  1.366418e+09               5.36   \n",
      "992                                     60.0  6.683440e+07               3.85   \n",
      "993                                     67.0  1.028545e+07               6.48   \n",
      "994                                     28.1  1.366418e+09               5.36   \n",
      "\n",
      "     Urban_population   Latitude  Longitude  \n",
      "0         471031528.0  20.593684  78.962880  \n",
      "1         270663028.0  37.090240 -95.712891  \n",
      "2         270663028.0  37.090240 -95.712891  \n",
      "3         270663028.0  37.090240 -95.712891  \n",
      "4         471031528.0  20.593684  78.962880  \n",
      "..                ...        ...        ...  \n",
      "990       183241641.0 -14.235004 -51.925280  \n",
      "991       471031528.0  20.593684  78.962880  \n",
      "992        55908316.0  55.378051  -3.435973  \n",
      "993         9021165.0  60.128161  18.643501  \n",
      "994       471031528.0  20.593684  78.962880  \n",
      "\n",
      "[995 rows x 28 columns]\n"
     ]
    }
   ],
   "source": [
    "# Завдання 1\n",
    "# Прочитайте CSV файл (використовуйте метод read_csv)\n",
    "import pandas as pd\n",
    "\n",
    "file_path = 'C:/Users/38099/Desktop/archive/Global Youtube Statistics.csv'\n",
    "\n",
    "data = pd.read_csv(file_path, encoding='cp1251')\n",
    "\n",
    "print(data)"
   ]
  },
  {
   "cell_type": "code",
   "execution_count": 9,
   "metadata": {},
   "outputs": [
    {
     "name": "stdout",
     "output_type": "stream",
     "text": [
      "   rank                    Youtuber  subscribers   video views  \\\n",
      "0     1                    T-Series    245000000  2.280000e+11   \n",
      "1     2              YouTube Movies    170000000  0.000000e+00   \n",
      "2     3                     MrBeast    166000000  2.836884e+10   \n",
      "3     4  Cocomelon - Nursery Rhymes    162000000  1.640000e+11   \n",
      "4     5                   SET India    159000000  1.480000e+11   \n",
      "\n",
      "           category                       Title  uploads        Country  \\\n",
      "0             Music                    T-Series    20082          India   \n",
      "1  Film & Animation               youtubemovies        1  United States   \n",
      "2     Entertainment                     MrBeast      741  United States   \n",
      "3         Education  Cocomelon - Nursery Rhymes      966  United States   \n",
      "4             Shows                   SET India   116536          India   \n",
      "\n",
      "  Abbreviation   channel_type  ...  subscribers_for_last_30_days  \\\n",
      "0           IN          Music  ...                     2000000.0   \n",
      "1           US          Games  ...                           NaN   \n",
      "2           US  Entertainment  ...                     8000000.0   \n",
      "3           US      Education  ...                     1000000.0   \n",
      "4           IN  Entertainment  ...                     1000000.0   \n",
      "\n",
      "   created_year  created_month  created_date  \\\n",
      "0        2006.0            Mar          13.0   \n",
      "1        2006.0            Mar           5.0   \n",
      "2        2012.0            Feb          20.0   \n",
      "3        2006.0            Sep           1.0   \n",
      "4        2006.0            Sep          20.0   \n",
      "\n",
      "   Gross tertiary education enrollment (%)    Population  Unemployment rate  \\\n",
      "0                                     28.1  1.366418e+09               5.36   \n",
      "1                                     88.2  3.282395e+08              14.70   \n",
      "2                                     88.2  3.282395e+08              14.70   \n",
      "3                                     88.2  3.282395e+08              14.70   \n",
      "4                                     28.1  1.366418e+09               5.36   \n",
      "\n",
      "   Urban_population   Latitude  Longitude  \n",
      "0       471031528.0  20.593684  78.962880  \n",
      "1       270663028.0  37.090240 -95.712891  \n",
      "2       270663028.0  37.090240 -95.712891  \n",
      "3       270663028.0  37.090240 -95.712891  \n",
      "4       471031528.0  20.593684  78.962880  \n",
      "\n",
      "[5 rows x 28 columns]\n"
     ]
    }
   ],
   "source": [
    "# Завдання 2\n",
    "# Виведіть перші п'ять рядків (використовується метод head)\n",
    "import pandas as pd\n",
    "\n",
    "file_path = 'C:/Users/38099/Desktop/archive/Global Youtube Statistics.csv'\n",
    "\n",
    "data = pd.read_csv(file_path, encoding='cp1251')\n",
    "\n",
    "print(data.head(5))"
   ]
  },
  {
   "cell_type": "code",
   "execution_count": 10,
   "metadata": {},
   "outputs": [
    {
     "name": "stdout",
     "output_type": "stream",
     "text": [
      "(995, 28)\n"
     ]
    }
   ],
   "source": [
    "# Завдання 3\n",
    "# Виведіть розміри датасету (використовуйте метод shape)\n",
    "import pandas as pd\n",
    "\n",
    "file_path = 'C:/Users/38099/Desktop/archive/Global Youtube Statistics.csv'\n",
    "\n",
    "data = pd.read_csv(file_path, encoding='cp1251')\n",
    "\n",
    "print(data.shape)"
   ]
  },
  {
   "cell_type": "code",
   "execution_count": 18,
   "metadata": {},
   "outputs": [
    {
     "name": "stdout",
     "output_type": "stream",
     "text": [
      "Кількість пропусків у кожному стовпці:\n",
      "rank                                         0\n",
      "Youtuber                                     0\n",
      "subscribers                                  0\n",
      "video views                                  0\n",
      "category                                    46\n",
      "Title                                        0\n",
      "uploads                                      0\n",
      "Country                                    122\n",
      "Abbreviation                               122\n",
      "channel_type                                30\n",
      "video_views_rank                             1\n",
      "country_rank                               116\n",
      "channel_type_rank                           33\n",
      "video_views_for_the_last_30_days            56\n",
      "lowest_monthly_earnings                      0\n",
      "highest_monthly_earnings                     0\n",
      "lowest_yearly_earnings                       0\n",
      "highest_yearly_earnings                      0\n",
      "subscribers_for_last_30_days               337\n",
      "created_year                                 5\n",
      "created_month                                5\n",
      "created_date                                 5\n",
      "Gross tertiary education enrollment (%)    123\n",
      "Population                                 123\n",
      "Unemployment rate                          123\n",
      "Urban_population                           123\n",
      "Latitude                                   123\n",
      "Longitude                                  123\n",
      "dtype: int64\n"
     ]
    }
   ],
   "source": [
    "# Завдання 4\n",
    "# Перевірте, чи у всіх рядків вистачає даних: виведіть кількість пропусків  у кожному зі стовпців (використовуйте методи isna та sum). Якщо є пропуски, замінить їх на NaN, потім тип даних на числовий.\n",
    "import pandas as pd\n",
    "\n",
    "file_path = 'C:/Users/38099/Desktop/archive/Global Youtube Statistics.csv'\n",
    "\n",
    "data = pd.read_csv(file_path, encoding='cp1251')\n",
    "\n",
    "missing_values = data.isna().sum()\n",
    "\n",
    "print(\"Кількість пропусків у кожному стовпці:\")\n",
    "print(missing_values)\n",
    "\n",
    "data.replace(\"-\", pd.NA, inplace=True)\n",
    "\n",
    "data = data.apply(pd.to_numeric, errors='ignore')"
   ]
  },
  {
   "cell_type": "code",
   "execution_count": 31,
   "metadata": {},
   "outputs": [],
   "source": [
    "# Завдання 5\n",
    "# Замініть комірки з пропущеними значенями на середні за стовпцем. І тип даних на float.\n",
    "import pandas as pd\n",
    "\n",
    "file_path = 'C:/Users/38099/Desktop/archive/Global Youtube Statistics.csv'\n",
    "\n",
    "data = pd.read_csv(file_path, encoding='cp1251')\n",
    "\n",
    "numeric_columns = data.select_dtypes(include='number').columns\n",
    "\n",
    "# Заміна NaN значень середніми за стовпцем\n",
    "data[numeric_columns] = data[numeric_columns].apply(lambda x: x.fillna(x.mean()), axis=0)\n",
    "\n",
    "# Зміна типу даних на float64\n",
    "data[numeric_columns] = data[numeric_columns].astype('float64')"
   ]
  },
  {
   "cell_type": "code",
   "execution_count": 32,
   "metadata": {},
   "outputs": [
    {
     "name": "stdout",
     "output_type": "stream",
     "text": [
      "Кількість пропусків у кожному стовпці:\n",
      "rank                                         0\n",
      "Youtuber                                     0\n",
      "subscribers                                  0\n",
      "video views                                  0\n",
      "category                                    46\n",
      "Title                                        0\n",
      "uploads                                      0\n",
      "Country                                    122\n",
      "Abbreviation                               122\n",
      "channel_type                                30\n",
      "video_views_rank                             0\n",
      "country_rank                                 0\n",
      "channel_type_rank                            0\n",
      "video_views_for_the_last_30_days             0\n",
      "lowest_monthly_earnings                      0\n",
      "highest_monthly_earnings                     0\n",
      "lowest_yearly_earnings                       0\n",
      "highest_yearly_earnings                      0\n",
      "subscribers_for_last_30_days                 0\n",
      "created_year                                 0\n",
      "created_month                                5\n",
      "created_date                                 0\n",
      "Gross tertiary education enrollment (%)      0\n",
      "Population                                   0\n",
      "Unemployment rate                            0\n",
      "Urban_population                             0\n",
      "Latitude                                     0\n",
      "Longitude                                    0\n",
      "dtype: int64\n"
     ]
    }
   ],
   "source": [
    "# Завдання 6\n",
    "# Ще раз перевірте кількість пропусків\n",
    "import pandas as pd\n",
    "\n",
    "file_path = 'C:/Users/38099/Desktop/archive/Global Youtube Statistics.csv'\n",
    "\n",
    "data = pd.read_csv(file_path, encoding='cp1251')\n",
    "\n",
    "numeric_columns = data.select_dtypes(include='number').columns\n",
    "\n",
    "# Заміна NaN значень середніми за стовпцем\n",
    "data[numeric_columns] = data[numeric_columns].apply(lambda x: x.fillna(x.mean()), axis=0)\n",
    "\n",
    "data[numeric_columns] = data[numeric_columns].astype('float64')\n",
    "\n",
    "missing_values = data.isna().sum()\n",
    "\n",
    "print(\"Кількість пропусків у кожному стовпці:\")\n",
    "print(missing_values)"
   ]
  },
  {
   "cell_type": "code",
   "execution_count": 33,
   "metadata": {},
   "outputs": [
    {
     "name": "stdout",
     "output_type": "stream",
     "text": [
      "Кількість унікальних країн: 49\n"
     ]
    }
   ],
   "source": [
    "# Завдання 7\n",
    "# Перевірте, скільки унікальних країн представлено у колонці \"Country\"\n",
    "import pandas as pd\n",
    "\n",
    "file_path = 'C:/Users/38099/Desktop/archive/Global Youtube Statistics.csv'\n",
    "\n",
    "data = pd.read_csv(file_path, encoding='cp1251')\n",
    "\n",
    "unique_countries = data['Country'].nunique()\n",
    "print(\"Кількість унікальних країн:\", unique_countries)"
   ]
  },
  {
   "cell_type": "code",
   "execution_count": 38,
   "metadata": {},
   "outputs": [
    {
     "data": {
      "image/png": "[encoded data removed]",
      "text/plain": [
       "<Figure size 640x480 with 1 Axes>"
      ]
     },
     "metadata": {},
     "output_type": "display_data"
    }
   ],
   "source": [
    "# Завдання 8\n",
    "# Побудуйте діаграму розподілу переглядів (використовуйте kind='hist')\n",
    "import matplotlib.pyplot as plt\n",
    "\n",
    "# Побудова діаграми розподілу переглядів\n",
    "data['video views'].plot(kind='hist', bins=20, edgecolor='black')\n",
    "plt.title('Розподіл переглядів')\n",
    "plt.xlabel('Перегляди')\n",
    "plt.ylabel('Частота')\n",
    "plt.show()"
   ]
  },
  {
   "cell_type": "code",
   "execution_count": 39,
   "metadata": {},
   "outputs": [
    {
     "name": "stdout",
     "output_type": "stream",
     "text": [
      "Максимальна кількість переглядів: 228000000000.0\n",
      "Мінімальна кількість переглядів: 0.0\n",
      "Середня кількість переглядів: 11039537052.03819\n"
     ]
    }
   ],
   "source": [
    "# Завдання 9\n",
    "# Визначте максимальну, мінімальну, середню кількість переглядів (використовуйте методи max, min, mean)\n",
    "max_views = data['video views'].max()\n",
    "min_views = data['video views'].min()\n",
    "mean_views = data['video views'].mean()\n",
    "\n",
    "print(\"Максимальна кількість переглядів:\", max_views)\n",
    "print(\"Мінімальна кількість переглядів:\", min_views)\n",
    "print(\"Середня кількість переглядів:\", mean_views)"
   ]
  },
  {
   "cell_type": "code",
   "execution_count": 40,
   "metadata": {},
   "outputs": [
    {
     "name": "stdout",
     "output_type": "stream",
     "text": [
      "Країна з найбільшою кількістю завантажених відео: India\n",
      "Кількість завантажених відео: 301308\n"
     ]
    }
   ],
   "source": [
    "# Завдання 10\n",
    "# Знайдіть країну, де найбільше відео було завантажено на YouTube\n",
    "country_with_max_uploads = data['uploads'].idxmax()\n",
    "max_uploads = data.loc[country_with_max_uploads, 'uploads']\n",
    "\n",
    "print(\"Країна з найбільшою кількістю завантажених відео:\", data.loc[country_with_max_uploads, 'Country'])\n",
    "print(\"Кількість завантажених відео:\", max_uploads)"
   ]
  },
  {
   "cell_type": "code",
   "execution_count": 41,
   "metadata": {},
   "outputs": [
    {
     "name": "stdout",
     "output_type": "stream",
     "text": [
      "Відео з найбільшою кількістю завантажень: ABP NEWS\n",
      "Відео з найменшою кількістю завантажень: Music\n"
     ]
    }
   ],
   "source": [
    "# Завдання 11\n",
    "# Знайдіть відео (виведіть його назву) з найбільшою та найменшою кількістю завантажень uploads.\n",
    "max_uploads_video_index = data['uploads'].idxmax()\n",
    "max_uploads_video_title = data.loc[max_uploads_video_index, 'Title']\n",
    "\n",
    "min_uploads_video_index = data['uploads'].idxmin()\n",
    "min_uploads_video_title = data.loc[min_uploads_video_index, 'Title']\n",
    "\n",
    "print(\"Відео з найбільшою кількістю завантажень:\", max_uploads_video_title)\n",
    "print(\"Відео з найменшою кількістю завантажень:\", min_uploads_video_title)"
   ]
  },
  {
   "cell_type": "code",
   "execution_count": null,
   "metadata": {},
   "outputs": [],
   "source": []
  }
 ],
 "metadata": {
  "kernelspec": {
   "display_name": "Python 3",
   "language": "python",
   "name": "python3"
  },
  "language_info": {
   "codemirror_mode": {
    "name": "ipython",
    "version": 3
   },
   "file_extension": ".py",
   "mimetype": "text/x-python",
   "name": "python",
   "nbconvert_exporter": "python",
   "pygments_lexer": "ipython3",
   "version": "3.11.5"
  }
 },
 "nbformat": 4,
 "nbformat_minor": 2
}
