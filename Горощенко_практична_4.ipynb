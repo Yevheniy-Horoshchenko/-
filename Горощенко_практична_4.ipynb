{
 "cells": [
  {
   "cell_type": "code",
   "execution_count": 2,
   "metadata": {},
   "outputs": [
    {
     "name": "stdout",
     "output_type": "stream",
     "text": [
      "      price  area  bedrooms  bathrooms  stories mainroad guestroom basement  \\\n",
      "0  13300000  7420         4          2        3      yes        no       no   \n",
      "1  12250000  8960         4          4        4      yes        no       no   \n",
      "2  12250000  9960         3          2        2      yes        no      yes   \n",
      "3  12215000  7500         4          2        2      yes        no      yes   \n",
      "4  11410000  7420         4          1        2      yes       yes      yes   \n",
      "\n",
      "  hotwaterheating airconditioning  parking prefarea furnishingstatus  \n",
      "0              no             yes        2      yes        furnished  \n",
      "1              no             yes        3       no        furnished  \n",
      "2              no              no        2      yes   semi-furnished  \n",
      "3              no             yes        3      yes        furnished  \n",
      "4              no             yes        2       no        furnished  \n"
     ]
    }
   ],
   "source": [
    "# Завдання 1\n",
    "# Зантажте файл Housing.csv. Виведіть перші 5 рядків\n",
    "import pandas as pd\n",
    "\n",
    "file_path = 'C:/Users/38099/Downloads/Housing.csv'\n",
    "\n",
    "data = pd.read_csv(file_path, encoding='cp1251')\n",
    "\n",
    "print(data.head(5))"
   ]
  },
  {
   "cell_type": "code",
   "execution_count": 4,
   "metadata": {},
   "outputs": [
    {
     "name": "stdout",
     "output_type": "stream",
     "text": [
      "        price  area  bedrooms  bathrooms\n",
      "0    13300000  7420         4          2\n",
      "1    12250000  8960         4          4\n",
      "2    12250000  9960         3          2\n",
      "3    12215000  7500         4          2\n",
      "4    11410000  7420         4          1\n",
      "..        ...   ...       ...        ...\n",
      "540   1820000  3000         2          1\n",
      "541   1767150  2400         3          1\n",
      "542   1750000  3620         2          1\n",
      "543   1750000  2910         3          1\n",
      "544   1750000  3850         3          1\n",
      "\n",
      "[545 rows x 4 columns]\n"
     ]
    }
   ],
   "source": [
    "# Завдання 2\n",
    "# Зробіть новий датасет, який містить тільки ці стовпчики. columns = ['price', 'area', 'bedrooms', 'bathrooms'] \n",
    "\n",
    "columns = ['price', 'area', 'bedrooms', 'bathrooms'] \n",
    "df = pd.DataFrame(data)\n",
    "\n",
    "selected_columns = ['price', 'area', 'bedrooms', 'bathrooms']\n",
    "new_df = df[selected_columns]\n",
    "\n",
    "print(new_df)"
   ]
  },
  {
   "cell_type": "code",
   "execution_count": 9,
   "metadata": {},
   "outputs": [
    {
     "name": "stdout",
     "output_type": "stream",
     "text": [
      "        price    area  bedrooms  bathrooms\n",
      "0  13300000.0  7420.0       4.0        2.0\n",
      "1  12250000.0  8960.0       4.0        4.0\n",
      "2  12250000.0  9960.0       3.0        2.0\n",
      "3  12215000.0  7500.0       4.0        2.0\n",
      "4  11410000.0  7420.0       4.0        1.0\n"
     ]
    }
   ],
   "source": [
    "# Завдання 3\n",
    "# Проведіть попередній аналіз даних: вивчіть структуру даних, перевірте наявність відсутніх значень та інші особливості даних.  \n",
    "new_df.replace('-', pd.NaT, inplace=True)\n",
    "\n",
    "new_df = new_df.astype(float)\n",
    "\n",
    "new_df.fillna(new_df.mean(), inplace=True)\n",
    "\n",
    "print(new_df.head())"
   ]
  },
  {
   "cell_type": "code",
   "execution_count": 13,
   "metadata": {},
   "outputs": [
    {
     "name": "stdout",
     "output_type": "stream",
     "text": [
      "      price      area  bedrooms  bathrooms\n",
      "0  4.566365  1.046726  1.403419   1.421812\n",
      "1  4.004484  1.757010  1.403419   5.405809\n",
      "2  4.004484  2.218232  0.047278   1.421812\n",
      "3  3.985755  1.083624  1.403419   1.421812\n",
      "4  3.554979  1.046726  1.403419  -0.570187\n"
     ]
    }
   ],
   "source": [
    "# Завдання 4\n",
    "# Нормалізуйте дані перед подальшим використанням. Це може покращити швидкість навчання моделі та поліпшити її стабільність. Дані для лінійної регресії нормалізуються так, щоб їх середнє значення було близьким до 0, а стандартне відхилення - близьким до 1. \n",
    "from sklearn.preprocessing import StandardScaler\n",
    "\n",
    "scaler = StandardScaler()\n",
    "\n",
    "features = ['price', 'area', 'bedrooms', 'bathrooms']\n",
    "\n",
    "new_df[features] = scaler.fit_transform(new_df[features])\n",
    "\n",
    "print(new_df.head())"
   ]
  },
  {
   "cell_type": "code",
   "execution_count": 15,
   "metadata": {},
   "outputs": [
    {
     "name": "stdout",
     "output_type": "stream",
     "text": [
      "Розмір навчального набору: (436, 3)\n",
      "Розмір тестового набору: (109, 3)\n"
     ]
    }
   ],
   "source": [
    "# Завдання 5\n",
    "# Розділіть дані на навчальний та тестовий набори для подальшого оцінювання моделі. \n",
    "from sklearn.model_selection import train_test_split\n",
    "\n",
    "X = df[['area', 'bedrooms', 'bathrooms']]\n",
    "y = df['price']\n",
    "\n",
    "X_train, X_test, y_train, y_test = train_test_split(X, y, test_size=0.2, random_state=42)\n",
    "\n",
    "print(\"Розмір навчального набору:\", X_train.shape)\n",
    "print(\"Розмір тестового набору:\", X_test.shape)"
   ]
  },
  {
   "cell_type": "code",
   "execution_count": 17,
   "metadata": {},
   "outputs": [
    {
     "data": {
      "text/html": [
       "<style>#sk-container-id-1 {color: black;}#sk-container-id-1 pre{padding: 0;}#sk-container-id-1 div.sk-toggleable {background-color: white;}#sk-container-id-1 label.sk-toggleable__label {cursor: pointer;display: block;width: 100%;margin-bottom: 0;padding: 0.3em;box-sizing: border-box;text-align: center;}#sk-container-id-1 label.sk-toggleable__label-arrow:before {content: \"▸\";float: left;margin-right: 0.25em;color: #696969;}#sk-container-id-1 label.sk-toggleable__label-arrow:hover:before {color: black;}#sk-container-id-1 div.sk-estimator:hover label.sk-toggleable__label-arrow:before {color: black;}#sk-container-id-1 div.sk-toggleable__content {max-height: 0;max-width: 0;overflow: hidden;text-align: left;background-color: #f0f8ff;}#sk-container-id-1 div.sk-toggleable__content pre {margin: 0.2em;color: black;border-radius: 0.25em;background-color: #f0f8ff;}#sk-container-id-1 input.sk-toggleable__control:checked~div.sk-toggleable__content {max-height: 200px;max-width: 100%;overflow: auto;}#sk-container-id-1 input.sk-toggleable__control:checked~label.sk-toggleable__label-arrow:before {content: \"▾\";}#sk-container-id-1 div.sk-estimator input.sk-toggleable__control:checked~label.sk-toggleable__label {background-color: #d4ebff;}#sk-container-id-1 div.sk-label input.sk-toggleable__control:checked~label.sk-toggleable__label {background-color: #d4ebff;}#sk-container-id-1 input.sk-hidden--visually {border: 0;clip: rect(1px 1px 1px 1px);clip: rect(1px, 1px, 1px, 1px);height: 1px;margin: -1px;overflow: hidden;padding: 0;position: absolute;width: 1px;}#sk-container-id-1 div.sk-estimator {font-family: monospace;background-color: #f0f8ff;border: 1px dotted black;border-radius: 0.25em;box-sizing: border-box;margin-bottom: 0.5em;}#sk-container-id-1 div.sk-estimator:hover {background-color: #d4ebff;}#sk-container-id-1 div.sk-parallel-item::after {content: \"\";width: 100%;border-bottom: 1px solid gray;flex-grow: 1;}#sk-container-id-1 div.sk-label:hover label.sk-toggleable__label {background-color: #d4ebff;}#sk-container-id-1 div.sk-serial::before {content: \"\";position: absolute;border-left: 1px solid gray;box-sizing: border-box;top: 0;bottom: 0;left: 50%;z-index: 0;}#sk-container-id-1 div.sk-serial {display: flex;flex-direction: column;align-items: center;background-color: white;padding-right: 0.2em;padding-left: 0.2em;position: relative;}#sk-container-id-1 div.sk-item {position: relative;z-index: 1;}#sk-container-id-1 div.sk-parallel {display: flex;align-items: stretch;justify-content: center;background-color: white;position: relative;}#sk-container-id-1 div.sk-item::before, #sk-container-id-1 div.sk-parallel-item::before {content: \"\";position: absolute;border-left: 1px solid gray;box-sizing: border-box;top: 0;bottom: 0;left: 50%;z-index: -1;}#sk-container-id-1 div.sk-parallel-item {display: flex;flex-direction: column;z-index: 1;position: relative;background-color: white;}#sk-container-id-1 div.sk-parallel-item:first-child::after {align-self: flex-end;width: 50%;}#sk-container-id-1 div.sk-parallel-item:last-child::after {align-self: flex-start;width: 50%;}#sk-container-id-1 div.sk-parallel-item:only-child::after {width: 0;}#sk-container-id-1 div.sk-dashed-wrapped {border: 1px dashed gray;margin: 0 0.4em 0.5em 0.4em;box-sizing: border-box;padding-bottom: 0.4em;background-color: white;}#sk-container-id-1 div.sk-label label {font-family: monospace;font-weight: bold;display: inline-block;line-height: 1.2em;}#sk-container-id-1 div.sk-label-container {text-align: center;}#sk-container-id-1 div.sk-container {/* jupyter's `normalize.less` sets `[hidden] { display: none; }` but bootstrap.min.css set `[hidden] { display: none !important; }` so we also need the `!important` here to be able to override the default hidden behavior on the sphinx rendered scikit-learn.org. See: https://github.com/scikit-learn/scikit-learn/issues/21755 */display: inline-block !important;position: relative;}#sk-container-id-1 div.sk-text-repr-fallback {display: none;}</style><div id=\"sk-container-id-1\" class=\"sk-top-container\"><div class=\"sk-text-repr-fallback\"><pre>LinearRegression()</pre><b>In a Jupyter environment, please rerun this cell to show the HTML representation or trust the notebook. <br />On GitHub, the HTML representation is unable to render, please try loading this page with nbviewer.org.</b></div><div class=\"sk-container\" hidden><div class=\"sk-item\"><div class=\"sk-estimator sk-toggleable\"><input class=\"sk-toggleable__control sk-hidden--visually\" id=\"sk-estimator-id-1\" type=\"checkbox\" checked><label for=\"sk-estimator-id-1\" class=\"sk-toggleable__label sk-toggleable__label-arrow\">LinearRegression</label><div class=\"sk-toggleable__content\"><pre>LinearRegression()</pre></div></div></div></div></div>"
      ],
      "text/plain": [
       "LinearRegression()"
      ]
     },
     "execution_count": 17,
     "metadata": {},
     "output_type": "execute_result"
    }
   ],
   "source": [
    "# Завдання 6\n",
    "# Побудуйте модель лінійної регресії та навчіть її на навчальних даних\n",
    "from sklearn.linear_model import LinearRegression\n",
    "from sklearn.metrics import mean_squared_error, r2_score\n",
    "\n",
    "linear_reg_model = LinearRegression()\n",
    "\n",
    "linear_reg_model.fit(X_train, y_train)"
   ]
  },
  {
   "cell_type": "code",
   "execution_count": 19,
   "metadata": {},
   "outputs": [
    {
     "name": "stdout",
     "output_type": "stream",
     "text": [
      "RMSE: 0.8874106823867896\n",
      "R2: 0.45592991188724463\n"
     ]
    }
   ],
   "source": [
    "# Завдання 7\n",
    "# Оцініть якість моделі на тестових даних, використовуючи показники, такі як середньоквадратична помилка (RMSE) та коефіцієнт детермінації\n",
    "\n",
    "from sklearn.metrics import mean_squared_error, r2_score\n",
    "import numpy as np\n",
    "\n",
    "y_pred = linear_reg_model.predict(X_test)\n",
    "\n",
    "# Розрахунок RMSE\n",
    "rmse = np.sqrt(mean_squared_error(y_test, y_pred))\n",
    "print(\"RMSE:\", rmse)\n",
    "\n",
    "# Розрахунок R2\n",
    "r2 = r2_score(y_test, y_pred)\n",
    "print(\"R2:\", r2)"
   ]
  },
  {
   "cell_type": "code",
   "execution_count": 22,
   "metadata": {},
   "outputs": [
    {
     "name": "stdout",
     "output_type": "stream",
     "text": [
      "Прогнозовані ціни на будинки: [ 0.86499656  0.78316649 -0.62547744 -0.2552537  -0.44751615  0.06271882\n",
      "  0.39548076  0.69676691 -0.77337163 -0.6804495   2.12156068 -0.64507342\n",
      " -0.68463512 -0.60650241 -0.44566747  1.01371465 -1.00260763 -0.07038595\n",
      " -0.09811612 -0.26313666 -0.25155634  0.08212993 -0.69776073 -0.47709499\n",
      "  0.34556647  1.42280888 -0.80110179  0.1361294   1.26066179 -0.81773989\n",
      "  0.32099714 -0.60280505  0.69073262  0.04330771 -0.10409823  0.43191778\n",
      " -0.32069688 -0.39896228 -0.53625266  0.28950328  0.29565218 -0.70127321\n",
      "  0.76837707 -0.40314789 -0.12448586 -0.28439645  0.69073262 -0.12905537\n",
      "  0.11584221 -0.81773989  0.96341254 -0.81773989  0.06407924 -0.34768757\n",
      " -0.31392312 -0.64162728  0.64451569 -0.73590983  0.20555524 -0.6698457\n",
      " -0.02334512 -0.0237812  -0.18179486 -0.45539912 -0.18870131 -0.4844897\n",
      "  0.60890256 -0.62498918  0.56604734 -0.12584628  0.10839923 -0.00383357\n",
      "  0.18054592  1.52263746 -0.8761581   0.56181346 -0.5085225  -0.48220494\n",
      " -0.07038595 -0.19979337  0.95003572 -0.42533202  0.59829875  0.05347543\n",
      " -0.86531725  1.44445649 -0.66196273 -0.5417987   1.14599553  1.64460191\n",
      " -0.44191794  0.30859292 -0.36481392 -0.54919341  2.31431139 -0.30283105\n",
      "  0.0905675   0.65375907 -0.16281983  0.99440398 -0.58062092  0.43191778\n",
      " -0.63053521  0.95270829  0.12236476  0.29429176  0.88348333  0.69073262\n",
      "  0.7092194 ]\n"
     ]
    }
   ],
   "source": [
    "# Завдання 8\n",
    "# Виконайте аналіз результатів та виведіть прогнозовані ціни на будинки для тестового набору даних. \n",
    "y_pred = linear_reg_model.predict(X_test)\n",
    "\n",
    "print(\"Прогнозовані ціни на будинки:\", y_pred)"
   ]
  },
  {
   "cell_type": "code",
   "execution_count": 40,
   "metadata": {},
   "outputs": [
    {
     "name": "stdout",
     "output_type": "stream",
     "text": [
      "Коефіцієнти лінійної регресії:\n",
      "[3.15434935e-16 4.39452085e-01 1.60528660e-01 3.72344423e-01]\n"
     ]
    }
   ],
   "source": [
    "# Частина 2 Завдання 8\n",
    "# Визначте аналітично коефіцієнти лінійної регресії (ваги моделі) для цієї задачі, використовуючи формулу для спрощеного аналітичного рішення лінійної регресії. \n",
    "import numpy as np\n",
    "\n",
    "# Вектор цільових значень y\n",
    "y = new_df['price']\n",
    "\n",
    "# Додавання стовпця одиниць до матриці ознак X\n",
    "X_with_intercept = np.column_stack((np.ones(len(y)), X))\n",
    "\n",
    "# Обчислення коефіцієнтів лінійної регресії\n",
    "beta = np.linalg.inv(np.dot(X_with_intercept.T, X_with_intercept)).dot(X_with_intercept.T).dot(y)\n",
    "\n",
    "print(\"Коефіцієнти лінійної регресії:\")\n",
    "print(beta)"
   ]
  }
 ],
 "metadata": {
  "kernelspec": {
   "display_name": "Python 3",
   "language": "python",
   "name": "python3"
  },
  "language_info": {
   "codemirror_mode": {
    "name": "ipython",
    "version": 3
   },
   "file_extension": ".py",
   "mimetype": "text/x-python",
   "name": "python",
   "nbconvert_exporter": "python",
   "pygments_lexer": "ipython3",
   "version": "3.11.5"
  }
 },
 "nbformat": 4,
 "nbformat_minor": 2
}
